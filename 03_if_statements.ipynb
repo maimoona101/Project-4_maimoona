{
  "nbformat": 4,
  "nbformat_minor": 0,
  "metadata": {
    "colab": {
      "provenance": [],
      "authorship_tag": "ABX9TyPKvc2H6YBvI+twXd9DD3+H",
      "include_colab_link": true
    },
    "kernelspec": {
      "name": "python3",
      "display_name": "Python 3"
    },
    "language_info": {
      "name": "python"
    }
  },
  "cells": [
    {
      "cell_type": "markdown",
      "metadata": {
        "id": "view-in-github",
        "colab_type": "text"
      },
      "source": [
        "<a href=\"https://colab.research.google.com/github/maimoona101/Project-4_maimoona/blob/main/03_if_statements.ipynb\" target=\"_parent\"><img src=\"https://colab.research.google.com/assets/colab-badge.svg\" alt=\"Open In Colab\"/></a>"
      ]
    },
    {
      "cell_type": "code",
      "execution_count": null,
      "metadata": {
        "id": "0fWEvZiTGv_T"
      },
      "outputs": [],
      "source": [
        "print (\"01_print_events\")\n",
        "\n",
        "def main():\n",
        "    for i in range(20):   # 0 se 19 tak chalega, total 20 times\n",
        "        print(i * 2)       # Har baar i ko 2 se multiply karke print karega\n",
        "\n",
        "# Ye line zaroori hai taake main function chale\n",
        "if __name__ == '__main__':\n",
        "    main()"
      ]
    },
    {
      "cell_type": "code",
      "source": [
        "print (\"02_international_voting_age\")\n",
        "\n",
        "# Constant voting ages\n",
        "PETURKSBOUIPO_AGE = 16\n",
        "STANLAU_AGE = 25\n",
        "MAYENGUA_AGE = 48\n",
        "\n",
        "def main():\n",
        "    # Step 1: Ask user for their age\n",
        "    user_age = int(input(\"How old are you? \"))\n",
        "\n",
        "    # Step 2: Check voting eligibility for each country\n",
        "\n",
        "    # Peturksbouipo\n",
        "    if user_age >= PETURKSBOUIPO_AGE:\n",
        "        print(f\"You can vote in Peturksbouipo where the voting age is {PETURKSBOUIPO_AGE}.\")\n",
        "    else:\n",
        "        print(f\"You cannot vote in Peturksbouipo where the voting age is {PETURKSBOUIPO_AGE}.\")\n",
        "\n",
        "    # Stanlau\n",
        "    if user_age >= STANLAU_AGE:\n",
        "        print(f\"You can vote in Stanlau where the voting age is {STANLAU_AGE}.\")\n",
        "    else:\n",
        "        print(f\"You cannot vote in Stanlau where the voting age is {STANLAU_AGE}.\")\n",
        "\n",
        "    # Mayengua\n",
        "    if user_age >= MAYENGUA_AGE:\n",
        "        print(f\"You can vote in Mayengua where the voting age is {MAYENGUA_AGE}.\")\n",
        "    else:\n",
        "        print(f\"You cannot vote in Mayengua where the voting age is {MAYENGUA_AGE}.\")\n",
        "\n",
        "# Call the main function\n",
        "if __name__ == '__main__':\n",
        "    main()\n",
        "______________________________________________________________________________"
      ],
      "metadata": {
        "id": "NrTS7_wkHCfh"
      },
      "execution_count": null,
      "outputs": []
    },
    {
      "cell_type": "code",
      "source": [
        "print (\"03_leap_yea\")\n",
        "\n",
        "def main():\n",
        "    # Step 1: Ask the user for the year\n",
        "    year = int(input(\"Please input a year: \"))\n",
        "\n",
        "    # Step 2: Check for leap year using the 3 rules\n",
        "    if year % 4 == 0:\n",
        "        if year % 100 == 0:\n",
        "            if year % 400 == 0:\n",
        "                print(\"That's a leap year!\")\n",
        "            else:\n",
        "                print(\"That's not a leap year.\")\n",
        "        else:\n",
        "            print(\"That's a leap year!\")\n",
        "    else:\n",
        "        print(\"That's not a leap year.\")\n",
        "\n",
        "# Step 3: Run the main function\n",
        "if __name__ == '__main__':\n",
        "    main()"
      ],
      "metadata": {
        "id": "nChwmzwJHJ4e"
      },
      "execution_count": null,
      "outputs": []
    },
    {
      "cell_type": "code",
      "source": [
        "print (\"04_tall_enough_to_ride\")\n",
        "\n",
        "MINIMUM_HEIGHT = 50\n",
        "\n",
        "def tall_enough_extension():\n",
        "    while True:\n",
        "        height_input = input(\"How tall are you? (press enter to quit) \")\n",
        "\n",
        "        if height_input == \"\":\n",
        "            break  # User entered nothing, exit the loop\n",
        "\n",
        "        height = float(height_input)\n",
        "\n",
        "        if height >= MINIMUM_HEIGHT:\n",
        "            print(\"You're tall enough to ride!\")\n",
        "        else:\n",
        "            print(\"You're not tall enough to ride, but maybe next year!\")\n",
        "\n",
        "def main():\n",
        "    tall_enough_extension()\n",
        "\n",
        "if __name__ == '__main__':\n",
        "    main()\n"
      ],
      "metadata": {
        "id": "XanC890mHM-_"
      },
      "execution_count": null,
      "outputs": []
    },
    {
      "cell_type": "code",
      "source": [
        "print (\"05_random_numbers\")\n",
        "\n",
        "import random\n",
        "\n",
        "N_NUMBERS = 10\n",
        "MIN_VALUE = 1\n",
        "MAX_VALUE = 100\n",
        "\n",
        "def main():\n",
        "    for _ in range(N_NUMBERS):\n",
        "        value = random.randint(MIN_VALUE, MAX_VALUE)\n",
        "        print(value)\n",
        "\n",
        "if __name__ == '__main__':\n",
        "    main()\n"
      ],
      "metadata": {
        "id": "R5aVSe8OHSte"
      },
      "execution_count": null,
      "outputs": []
    }
  ]
}