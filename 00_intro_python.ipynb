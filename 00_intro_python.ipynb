{
  "nbformat": 4,
  "nbformat_minor": 0,
  "metadata": {
    "colab": {
      "provenance": [],
      "authorship_tag": "ABX9TyPQ5e1MgNDUkDwROfB7l5D1",
      "include_colab_link": true
    },
    "kernelspec": {
      "name": "python3",
      "display_name": "Python 3"
    },
    "language_info": {
      "name": "python"
    }
  },
  "cells": [
    {
      "cell_type": "markdown",
      "metadata": {
        "id": "view-in-github",
        "colab_type": "text"
      },
      "source": [
        "<a href=\"https://colab.research.google.com/github/maimoona101/Project-4_maimoona/blob/main/00_intro_python.ipynb\" target=\"_parent\"><img src=\"https://colab.research.google.com/assets/colab-badge.svg\" alt=\"Open In Colab\"/></a>"
      ]
    },
    {
      "cell_type": "code",
      "execution_count": null,
      "metadata": {
        "colab": {
          "base_uri": "https://localhost:8080/"
        },
        "id": "USOOV-K-8j0z",
        "outputId": "05d0fb7d-5263-4f2f-f9b1-313fae41c816"
      },
      "outputs": [
        {
          "output_type": "stream",
          "name": "stdout",
          "text": [
            "01_add_two_numbers\n",
            "This program adds two numbers.\n",
            "Enter the first number: 10\n",
            "Enter the second number: 10\n",
            "The total is: 20\n"
          ]
        }
      ],
      "source": [
        "print(\"01_add_two_numbers\")\n",
        "\n",
        "def main():\n",
        "    print(\"This program adds two numbers.\")\n",
        "\n",
        "    # Step 1: User se pehla number lo\n",
        "    num1 = int(input(\"Enter the first number: \"))\n",
        "\n",
        "    # Step 2: User se doosra number lo\n",
        "    num2 = int(input(\"Enter the second number: \"))\n",
        "\n",
        "    # Step 3: Dono ka sum calculate karo\n",
        "    total = num1 + num2\n",
        "\n",
        "    # Step 4: Result print karo\n",
        "    print(\"The total is:\", total)\n",
        "\n",
        "\n",
        "# Ye line main() function ko run karne ke liye hoti hai\n",
        "if __name__ == '__main__':\n",
        "    main()"
      ]
    },
    {
      "cell_type": "code",
      "source": [
        "print (\"02_agreement_bot\")\n",
        "\n",
        "def main():\n",
        "    # Step 1: User se input lena\n",
        "    animal = input(\"What's your favorite animal? \")\n",
        "\n",
        "    # Step 2: Message print karna user ke input ke sath\n",
        "    print(\"My favorite animal is also \" + animal + \"!\")\n",
        "\n",
        "\n",
        "# Ye line zaroori hai taake main() function chale\n",
        "if __name__ == '__main__':\n",
        "    main()"
      ],
      "metadata": {
        "colab": {
          "base_uri": "https://localhost:8080/"
        },
        "id": "zHHGybFJ9VMv",
        "outputId": "23572809-142d-4af8-a50f-097af0c35e4c"
      },
      "execution_count": null,
      "outputs": [
        {
          "output_type": "stream",
          "name": "stdout",
          "text": [
            "02_agreement_bot\n",
            "What's your favorite animal? pengun\n",
            "My favorite animal is also pengun!\n"
          ]
        }
      ]
    },
    {
      "cell_type": "code",
      "source": [
        "print (\"03_fahrenheit_to_celsius\")\n",
        "\n",
        "def main():\n",
        "    # Step 1: Fahrenheit temperature input lena (float ke form mein)\n",
        "    fahrenheit = float(input(\"Enter temperature in Fahrenheit: \"))\n",
        "\n",
        "    # Step 2: Celsius mein convert karna\n",
        "    celsius = (fahrenheit - 32) * 5.0 / 9.0\n",
        "\n",
        "    # Step 3: Output dikhana\n",
        "    print(\"Temperature:\", str(fahrenheit) + \"F =\", str(celsius) + \"C\")\n",
        "\n",
        "\n",
        "# Zaroori line taake program chale\n",
        "if __name__ == '__main__':\n",
        "    main()"
      ],
      "metadata": {
        "colab": {
          "base_uri": "https://localhost:8080/"
        },
        "id": "JA13sdkA9r1P",
        "outputId": "a5620f66-b9d0-4dbe-88ee-899d90d14387"
      },
      "execution_count": null,
      "outputs": [
        {
          "output_type": "stream",
          "name": "stdout",
          "text": [
            "03_fahrenheit_to_celsius\n",
            "Enter temperature in Fahrenheit: 78\n",
            "Temperature: 78.0F = 25.555555555555557C\n"
          ]
        }
      ]
    },
    {
      "cell_type": "code",
      "source": [
        "print (\"04_how_old_are_they\")\n",
        "\n",
        "def main():\n",
        "    anton = 21\n",
        "    beth = anton + 6\n",
        "    chen = beth + 20\n",
        "    drew = chen + anton\n",
        "    ethan = chen\n",
        "\n",
        "    print(\"Anton is \" + str(anton))\n",
        "    print(\"Beth is \" + str(beth))\n",
        "    print(\"Chen is \" + str(chen))\n",
        "    print(\"Drew is \" + str(drew))\n",
        "    print(\"Ethan is \" + str(ethan))\n",
        "\n",
        "\n",
        "if __name__ == '__main__':\n",
        "    main()\n"
      ],
      "metadata": {
        "colab": {
          "base_uri": "https://localhost:8080/"
        },
        "id": "H2w_3Xcz94Bt",
        "outputId": "6114a6b7-2fbd-47b6-8130-28c0ccc78db3"
      },
      "execution_count": null,
      "outputs": [
        {
          "output_type": "stream",
          "name": "stdout",
          "text": [
            "04_how_old_are_they\n",
            "Anton is 21\n",
            "Beth is 27\n",
            "Chen is 47\n",
            "Drew is 68\n",
            "Ethan is 47\n"
          ]
        }
      ]
    },
    {
      "cell_type": "code",
      "source": [
        "print (\"05_triangle_perimeter\")\n",
        "\n",
        "def main():\n",
        "    # Step 1: Teen sides ki length user se lo (float type mein)\n",
        "    side1 = float(input(\"What is the length of side 1? \"))\n",
        "    side2 = float(input(\"What is the length of side 2? \"))\n",
        "    side3 = float(input(\"What is the length of side 3? \"))\n",
        "\n",
        "    # Step 2: Perimeter calculate karo (sum of all sides)\n",
        "    perimeter = side1 + side2 + side3\n",
        "\n",
        "    # Step 3: Result print karo\n",
        "    print(\"The perimeter of the triangle is \" + str(perimeter))\n",
        "\n",
        "\n",
        "# Required to run the main() function\n",
        "if __name__ == '__main__':\n",
        "    main()10\n"
      ],
      "metadata": {
        "colab": {
          "base_uri": "https://localhost:8080/"
        },
        "id": "f6_LDJob9_Yl",
        "outputId": "3a6c8e7b-707f-419b-bdb9-9a3b15dc54b5"
      },
      "execution_count": null,
      "outputs": [
        {
          "output_type": "stream",
          "name": "stdout",
          "text": [
            "05_triangle_perimeter\n",
            "What is the length of side 1? 5\n",
            "What is the length of side 2? 6\n",
            "What is the length of side 3? 7\n",
            "The perimeter of the triangle is 18.0\n"
          ]
        }
      ]
    },
    {
      "cell_type": "code",
      "source": [
        "print (\"06_square_number.\")\n",
        "\n",
        "def main():\n",
        "    # Step 1: User se integer input lo\n",
        "    num = int(input(\"Type a number to see its square: \"))\n",
        "\n",
        "    # Step 2: Square calculate karo\n",
        "    square = num ** 2\n",
        "\n",
        "    # Step 3: Result print karo\n",
        "    print(str(num) + \" squared is \" + str(square))\n",
        "\n",
        "\n",
        "# Program run karne ke liye\n",
        "if __name__ == '__main__':\n",
        "    main()\n"
      ],
      "metadata": {
        "colab": {
          "base_uri": "https://localhost:8080/"
        },
        "id": "lYnl8QU8-URG",
        "outputId": "95b203f9-63bb-4f26-f3b1-82b08cc44e85"
      },
      "execution_count": null,
      "outputs": [
        {
          "output_type": "stream",
          "name": "stdout",
          "text": [
            "06_square_number.\n",
            "Type a number to see its square: 2\n",
            "2 squared is 4\n"
          ]
        }
      ]
    }
  ]
}