{
  "nbformat": 4,
  "nbformat_minor": 0,
  "metadata": {
    "colab": {
      "provenance": [],
      "authorship_tag": "ABX9TyNuKSKIFOx+FShApWJm2A3C",
      "include_colab_link": true
    },
    "kernelspec": {
      "name": "python3",
      "display_name": "Python 3"
    },
    "language_info": {
      "name": "python"
    }
  },
  "cells": [
    {
      "cell_type": "markdown",
      "metadata": {
        "id": "view-in-github",
        "colab_type": "text"
      },
      "source": [
        "<a href=\"https://colab.research.google.com/github/maimoona101/Project-4_maimoona/blob/main/02_lists.ipynb\" target=\"_parent\"><img src=\"https://colab.research.google.com/assets/colab-badge.svg\" alt=\"Open In Colab\"/></a>"
      ]
    },
    {
      "cell_type": "code",
      "execution_count": null,
      "metadata": {
        "colab": {
          "base_uri": "https://localhost:8080/"
        },
        "id": "RCxTI873DOWf",
        "outputId": "823b17a2-12b3-44de-9a3c-8873f048c9e7"
      },
      "outputs": [
        {
          "output_type": "stream",
          "name": "stdout",
          "text": [
            "01_add_many_number\n",
            "15\n"
          ]
        }
      ],
      "source": [
        "print (\"01_add_many_number\")\n",
        "\n",
        "def add_many_numbers(numbers) -> int:\n",
        "    total_so_far = 0\n",
        "    for number in numbers:\n",
        "        total_so_far += number\n",
        "    return total_so_far\n",
        "\n",
        "def main():\n",
        "    numbers = [1, 2, 3, 4, 5]\n",
        "    sum_of_numbers = add_many_numbers(numbers)\n",
        "    print(sum_of_numbers)\n",
        "\n",
        "if __name__ == '__main__':\n",
        "    main()"
      ]
    },
    {
      "cell_type": "code",
      "source": [
        "print (\"02_double_list\")\n",
        "\n",
        "def main():\n",
        "    numbers: list[int] = [1, 2, 3, 4]  # Step 1: Define a list\n",
        "\n",
        "    for i in range(len(numbers)):      # Step 2: Loop through the list using index\n",
        "        numbers[i] = numbers[i] * 2    # Step 3: Double the value and assign it back\n",
        "\n",
        "    print(numbers)                     # Step 4: Print the result\n",
        "\n",
        "\n",
        "# Required to run main when the script is run\n",
        "if __name__ == '__main__':\n",
        "    main()"
      ],
      "metadata": {
        "colab": {
          "base_uri": "https://localhost:8080/"
        },
        "id": "-EB9aVVzDgdx",
        "outputId": "0793c8dd-8fb8-419b-ed96-5b9cb0a5f03b"
      },
      "execution_count": null,
      "outputs": [
        {
          "output_type": "stream",
          "name": "stdout",
          "text": [
            "02_double_list\n",
            "[2, 4, 6, 8]\n"
          ]
        }
      ]
    },
    {
      "cell_type": "code",
      "source": [
        "print (\"04_flowing_with_data_structures\")\n",
        "\n",
        "# Function jo list mein 3 copies add karta hai\n",
        "def add_three_copies(my_list, data):\n",
        "    for i in range(3):\n",
        "        my_list.append(data)  # list mutable hai, isliye asli list modify ho jayegi\n",
        "\n",
        "# Main function\n",
        "def main():\n",
        "    message = input(\"Enter a message to copy: \")  # User input\n",
        "    my_list = []  # Empty list\n",
        "    print(\"List before:\", my_list)\n",
        "    add_three_copies(my_list, message)  # Function call\n",
        "    print(\"List after:\", my_list)\n",
        "\n",
        "# Python file chalane ke liye required line\n",
        "if __name__ == \"__main__\":\n",
        "    main()"
      ],
      "metadata": {
        "colab": {
          "base_uri": "https://localhost:8080/"
        },
        "id": "z_-Ow7D8Dnrm",
        "outputId": "8d9f0e31-5c5b-44e1-e523-96095e5ff60e"
      },
      "execution_count": null,
      "outputs": [
        {
          "output_type": "stream",
          "name": "stdout",
          "text": [
            "04_flowing_with_data_structures\n",
            "Enter a message to copy: hello world\n",
            "List before: []\n",
            "List after: ['hello world', 'hello world', 'hello world']\n"
          ]
        }
      ]
    },
    {
      "cell_type": "code",
      "source": [
        "print (\"05_get_first_element\")\n",
        "\n",
        "def get_first_element(lst):\n",
        "    \"\"\"\n",
        "    Prints the first element of a provided list.\n",
        "    \"\"\"\n",
        "    print(lst[0])  # List ka pehla element print karega\n",
        "\n",
        "def get_lst():\n",
        "    \"\"\"\n",
        "    Prompts the user to enter one element of the list at a time and returns the resulting list.\n",
        "    \"\"\"\n",
        "    lst = []  # Empty list banayi\n",
        "    elem: str = input(\"Please enter an element of the list or press enter to stop. \")\n",
        "    while elem != \"\":  # Jab tak user kuch input deta hai\n",
        "        lst.append(elem)  # User ka input list mein daala\n",
        "        elem = input(\"Please enter an element of the list or press enter to stop. \")\n",
        "    return lst  # Final list ko return kiya\n",
        "\n",
        "def main():\n",
        "    lst = get_lst()  # List ko user se lena\n",
        "    get_first_element(lst)  # List ka pehla element print karna\n",
        "\n",
        "if __name__ == '__main__':\n",
        "    main()  # Main function ko call karte hain program chalane ke liye"
      ],
      "metadata": {
        "colab": {
          "base_uri": "https://localhost:8080/"
        },
        "id": "IMu0jY_CEGHX",
        "outputId": "0fd37935-21d0-4280-f28b-9370b980c382"
      },
      "execution_count": null,
      "outputs": [
        {
          "output_type": "stream",
          "name": "stdout",
          "text": [
            "05_get_first_element\n",
            "Please enter an element of the list or press enter to stop. a\n",
            "Please enter an element of the list or press enter to stop. b\n",
            "Please enter an element of the list or press enter to stop. c\n",
            "Please enter an element of the list or press enter to stop. d\n",
            "Please enter an element of the list or press enter to stop. e\n",
            "Please enter an element of the list or press enter to stop. f\n",
            "Please enter an element of the list or press enter to stop. \n",
            "a\n"
          ]
        }
      ]
    },
    {
      "cell_type": "code",
      "source": [
        "print (\"06_get_last_element.\")\n",
        "\n",
        "def get_last_element(lst):\n",
        "    \"\"\"\n",
        "    Prints the last element of the provided list.\n",
        "    \"\"\"\n",
        "    print(\"Last element in the list is:\", lst[-1])\n",
        "\n",
        "def get_lst():\n",
        "    \"\"\"\n",
        "    Prompts the user to enter one element of the list at a time and returns the resulting list.\n",
        "    \"\"\"\n",
        "    lst = []\n",
        "    elem = input(\"Please enter an element of the list or press enter to stop: \")\n",
        "    while elem != \"\":\n",
        "        lst.append(elem)\n",
        "        elem = input(\"Please enter an element of the list or press enter to stop: \")\n",
        "    return lst\n",
        "\n",
        "def main():\n",
        "    lst = get_lst()\n",
        "    get_last_element(lst)\n",
        "\n",
        "if __name__ == '__main__':\n",
        "    main()"
      ],
      "metadata": {
        "colab": {
          "base_uri": "https://localhost:8080/"
        },
        "id": "Cxx6NieiEaP3",
        "outputId": "b80de14b-5b5c-4a78-e753-c9d9cca998e0"
      },
      "execution_count": null,
      "outputs": [
        {
          "output_type": "stream",
          "name": "stdout",
          "text": [
            "06_get_last_element.\n",
            "Please enter an element of the list or press enter to stop: a\n",
            "Please enter an element of the list or press enter to stop: y\n",
            "Please enter an element of the list or press enter to stop: d\n",
            "Please enter an element of the list or press enter to stop: h\n",
            "Please enter an element of the list or press enter to stop: k\n",
            "Please enter an element of the list or press enter to stop: r\n",
            "Please enter an element of the list or press enter to stop: e\n",
            "Please enter an element of the list or press enter to stop: \n",
            "Last element in the list is: e\n"
          ]
        }
      ]
    },
    {
      "cell_type": "code",
      "source": [
        "print (\"07_get_list\")\n",
        "\n",
        "def main():\n",
        "    lst = []  # Khaali list banayi\n",
        "\n",
        "    val = input(\"Enter a value: \")  # Pehla input liya\n",
        "    while val:  # Jab tak user input de raha hai\n",
        "        lst.append(val)  # List mein add kiya\n",
        "        val = input(\"Enter a value: \")  # Next input liya\n",
        "\n",
        "    print(\"Here's the list:\", lst)  # List print ki\n",
        "\n",
        "\n",
        "# Main function ko call karne ke liye ye zaroori hai\n",
        "if __name__ == '__main__':\n",
        "    main()"
      ],
      "metadata": {
        "colab": {
          "base_uri": "https://localhost:8080/"
        },
        "id": "9Zl8bcviEkOg",
        "outputId": "b58673ec-716a-4190-ee1f-c41a7ee10016"
      },
      "execution_count": null,
      "outputs": [
        {
          "output_type": "stream",
          "name": "stdout",
          "text": [
            "07_get_list\n",
            "Enter a value: qasim\n",
            "Enter a value: moona\n",
            "Enter a value: salman\n",
            "Enter a value: usman\n",
            "Enter a value: adnan\n",
            "Enter a value: farhan\n",
            "Enter a value: \n",
            "Here's the list: ['qasim', 'moona', 'salman', 'usman', 'adnan', 'farhan']\n"
          ]
        }
      ]
    },
    {
      "cell_type": "code",
      "source": [
        "print (\"08_shorten\")\n",
        "\n",
        "MAX_LENGTH = 3  # Required for autograder\n",
        "\n",
        "def shorten(lst):\n",
        "    # Jab tak list ki length MAX_LENGTH se zyada hai\n",
        "    while len(lst) > MAX_LENGTH:\n",
        "        last_elem = lst.pop()  # End se element remove karo\n",
        "        print(last_elem)       # Aur usko print karo\n",
        "\n",
        "# Ye function user se list input lene ke liye hai\n",
        "def get_lst():\n",
        "    lst = []\n",
        "    elem = input(\"Please enter an element of the list or press enter to stop: \")\n",
        "    while elem != \"\":\n",
        "        lst.append(elem)\n",
        "        elem = input(\"Please enter an element of the list or press enter to stop: \")\n",
        "    return lst\n",
        "\n",
        "def main():\n",
        "    lst = get_lst()   # User se list lo\n",
        "    shorten(lst)      # shorten function call karo\n",
        "\n",
        "# Python program start hone par yeh line zaroori hai\n",
        "if __name__ == '__main__':\n",
        "    main()w"
      ],
      "metadata": {
        "colab": {
          "base_uri": "https://localhost:8080/"
        },
        "id": "5SKT_aWCFvFf",
        "outputId": "95a83bd0-b9f9-458c-e35c-897197482ab7"
      },
      "execution_count": null,
      "outputs": [
        {
          "output_type": "stream",
          "name": "stdout",
          "text": [
            "08_shorten\n",
            "Please enter an element of the list or press enter to stop: a\n",
            "Please enter an element of the list or press enter to stop: v\n",
            "Please enter an element of the list or press enter to stop: t\n",
            "Please enter an element of the list or press enter to stop: t\n",
            "Please enter an element of the list or press enter to stop: s\n",
            "Please enter an element of the list or press enter to stop: w\n",
            "Please enter an element of the list or press enter to stop: \n",
            "w\n",
            "s\n",
            "t\n"
          ]
        }
      ]
    }
  ]
}